{
 "cells": [
  {
   "cell_type": "code",
   "execution_count": 1,
   "id": "c2ea9842",
   "metadata": {},
   "outputs": [],
   "source": [
    "import string as s\n",
    "import random as r\n",
    "def pass1():\n",
    "    upper_=s.ascii_uppercase\n",
    "    lower_=s.ascii_lowercase\n",
    "    number_=s.digits\n",
    "    special_char=s.punctuation\n",
    "    while True:\n",
    "        try:\n",
    "            length=int(input('enter your password length:- '))\n",
    "            break\n",
    "        except:\n",
    "            print('oops! that is not the valid number plz try agin')\n",
    "    l=[]\n",
    "    l.extend(list(upper_))\n",
    "    l.extend(list(lower_))\n",
    "    l.extend(list(number_))\n",
    "    l.extend(list(special_char))\n",
    "    #r.shuffle(l)\n",
    "    #print(\"\".join(l[0:length]))\n",
    "    z=''.join(r.sample(l,length))\n",
    "    print(f'your password is:- {z}')"
   ]
  },
  {
   "cell_type": "code",
   "execution_count": 2,
   "id": "d2f9a43b",
   "metadata": {},
   "outputs": [
    {
     "name": "stdout",
     "output_type": "stream",
     "text": [
      "enter your password length:- 5\n",
      "your password is:- O\\Z#v\n"
     ]
    }
   ],
   "source": [
    "pass1()"
   ]
  },
  {
   "cell_type": "code",
   "execution_count": null,
   "id": "29ef2937",
   "metadata": {},
   "outputs": [],
   "source": []
  }
 ],
 "metadata": {
  "kernelspec": {
   "display_name": "Python 3 (ipykernel)",
   "language": "python",
   "name": "python3"
  },
  "language_info": {
   "codemirror_mode": {
    "name": "ipython",
    "version": 3
   },
   "file_extension": ".py",
   "mimetype": "text/x-python",
   "name": "python",
   "nbconvert_exporter": "python",
   "pygments_lexer": "ipython3",
   "version": "3.9.7"
  }
 },
 "nbformat": 4,
 "nbformat_minor": 5
}
